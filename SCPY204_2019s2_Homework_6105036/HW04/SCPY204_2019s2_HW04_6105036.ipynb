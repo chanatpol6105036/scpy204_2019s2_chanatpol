{
 "cells": [
  {
   "cell_type": "code",
   "execution_count": 18,
   "metadata": {},
   "outputs": [],
   "source": [
    "import numpy as np\n",
    "import pandas as pd\n",
    "import matplotlib as mpl\n",
    "import matplotlib.pyplot as plt\n",
    "import lmfit"
   ]
  },
  {
   "cell_type": "code",
   "execution_count": 21,
   "metadata": {},
   "outputs": [
    {
     "data": {
      "text/html": [
       "<div>\n",
       "<style scoped>\n",
       "    .dataframe tbody tr th:only-of-type {\n",
       "        vertical-align: middle;\n",
       "    }\n",
       "\n",
       "    .dataframe tbody tr th {\n",
       "        vertical-align: top;\n",
       "    }\n",
       "\n",
       "    .dataframe thead th {\n",
       "        text-align: right;\n",
       "    }\n",
       "</style>\n",
       "<table border=\"1\" class=\"dataframe\">\n",
       "  <thead>\n",
       "    <tr style=\"text-align: right;\">\n",
       "      <th></th>\n",
       "      <th>dateRep</th>\n",
       "      <th>day</th>\n",
       "      <th>month</th>\n",
       "      <th>year</th>\n",
       "      <th>cases</th>\n",
       "      <th>deaths</th>\n",
       "      <th>countriesAndTerritories</th>\n",
       "      <th>geoId</th>\n",
       "      <th>countryterritoryCode</th>\n",
       "      <th>popData2018</th>\n",
       "    </tr>\n",
       "  </thead>\n",
       "  <tbody>\n",
       "    <tr>\n",
       "      <td>0</td>\n",
       "      <td>12/04/2020</td>\n",
       "      <td>12</td>\n",
       "      <td>4</td>\n",
       "      <td>2020</td>\n",
       "      <td>34</td>\n",
       "      <td>3</td>\n",
       "      <td>Afghanistan</td>\n",
       "      <td>AF</td>\n",
       "      <td>AFG</td>\n",
       "      <td>37172386.0</td>\n",
       "    </tr>\n",
       "    <tr>\n",
       "      <td>1</td>\n",
       "      <td>11/04/2020</td>\n",
       "      <td>11</td>\n",
       "      <td>4</td>\n",
       "      <td>2020</td>\n",
       "      <td>37</td>\n",
       "      <td>0</td>\n",
       "      <td>Afghanistan</td>\n",
       "      <td>AF</td>\n",
       "      <td>AFG</td>\n",
       "      <td>37172386.0</td>\n",
       "    </tr>\n",
       "    <tr>\n",
       "      <td>2</td>\n",
       "      <td>10/04/2020</td>\n",
       "      <td>10</td>\n",
       "      <td>4</td>\n",
       "      <td>2020</td>\n",
       "      <td>61</td>\n",
       "      <td>1</td>\n",
       "      <td>Afghanistan</td>\n",
       "      <td>AF</td>\n",
       "      <td>AFG</td>\n",
       "      <td>37172386.0</td>\n",
       "    </tr>\n",
       "    <tr>\n",
       "      <td>3</td>\n",
       "      <td>09/04/2020</td>\n",
       "      <td>9</td>\n",
       "      <td>4</td>\n",
       "      <td>2020</td>\n",
       "      <td>56</td>\n",
       "      <td>3</td>\n",
       "      <td>Afghanistan</td>\n",
       "      <td>AF</td>\n",
       "      <td>AFG</td>\n",
       "      <td>37172386.0</td>\n",
       "    </tr>\n",
       "    <tr>\n",
       "      <td>4</td>\n",
       "      <td>08/04/2020</td>\n",
       "      <td>8</td>\n",
       "      <td>4</td>\n",
       "      <td>2020</td>\n",
       "      <td>30</td>\n",
       "      <td>4</td>\n",
       "      <td>Afghanistan</td>\n",
       "      <td>AF</td>\n",
       "      <td>AFG</td>\n",
       "      <td>37172386.0</td>\n",
       "    </tr>\n",
       "    <tr>\n",
       "      <td>...</td>\n",
       "      <td>...</td>\n",
       "      <td>...</td>\n",
       "      <td>...</td>\n",
       "      <td>...</td>\n",
       "      <td>...</td>\n",
       "      <td>...</td>\n",
       "      <td>...</td>\n",
       "      <td>...</td>\n",
       "      <td>...</td>\n",
       "      <td>...</td>\n",
       "    </tr>\n",
       "    <tr>\n",
       "      <td>10327</td>\n",
       "      <td>25/03/2020</td>\n",
       "      <td>25</td>\n",
       "      <td>3</td>\n",
       "      <td>2020</td>\n",
       "      <td>0</td>\n",
       "      <td>0</td>\n",
       "      <td>Zimbabwe</td>\n",
       "      <td>ZW</td>\n",
       "      <td>ZWE</td>\n",
       "      <td>14439018.0</td>\n",
       "    </tr>\n",
       "    <tr>\n",
       "      <td>10328</td>\n",
       "      <td>24/03/2020</td>\n",
       "      <td>24</td>\n",
       "      <td>3</td>\n",
       "      <td>2020</td>\n",
       "      <td>0</td>\n",
       "      <td>1</td>\n",
       "      <td>Zimbabwe</td>\n",
       "      <td>ZW</td>\n",
       "      <td>ZWE</td>\n",
       "      <td>14439018.0</td>\n",
       "    </tr>\n",
       "    <tr>\n",
       "      <td>10329</td>\n",
       "      <td>23/03/2020</td>\n",
       "      <td>23</td>\n",
       "      <td>3</td>\n",
       "      <td>2020</td>\n",
       "      <td>0</td>\n",
       "      <td>0</td>\n",
       "      <td>Zimbabwe</td>\n",
       "      <td>ZW</td>\n",
       "      <td>ZWE</td>\n",
       "      <td>14439018.0</td>\n",
       "    </tr>\n",
       "    <tr>\n",
       "      <td>10330</td>\n",
       "      <td>22/03/2020</td>\n",
       "      <td>22</td>\n",
       "      <td>3</td>\n",
       "      <td>2020</td>\n",
       "      <td>1</td>\n",
       "      <td>0</td>\n",
       "      <td>Zimbabwe</td>\n",
       "      <td>ZW</td>\n",
       "      <td>ZWE</td>\n",
       "      <td>14439018.0</td>\n",
       "    </tr>\n",
       "    <tr>\n",
       "      <td>10331</td>\n",
       "      <td>21/03/2020</td>\n",
       "      <td>21</td>\n",
       "      <td>3</td>\n",
       "      <td>2020</td>\n",
       "      <td>1</td>\n",
       "      <td>0</td>\n",
       "      <td>Zimbabwe</td>\n",
       "      <td>ZW</td>\n",
       "      <td>ZWE</td>\n",
       "      <td>14439018.0</td>\n",
       "    </tr>\n",
       "  </tbody>\n",
       "</table>\n",
       "<p>10332 rows × 10 columns</p>\n",
       "</div>"
      ],
      "text/plain": [
       "          dateRep  day  month  year  cases  deaths countriesAndTerritories  \\\n",
       "0      12/04/2020   12      4  2020     34       3             Afghanistan   \n",
       "1      11/04/2020   11      4  2020     37       0             Afghanistan   \n",
       "2      10/04/2020   10      4  2020     61       1             Afghanistan   \n",
       "3      09/04/2020    9      4  2020     56       3             Afghanistan   \n",
       "4      08/04/2020    8      4  2020     30       4             Afghanistan   \n",
       "...           ...  ...    ...   ...    ...     ...                     ...   \n",
       "10327  25/03/2020   25      3  2020      0       0                Zimbabwe   \n",
       "10328  24/03/2020   24      3  2020      0       1                Zimbabwe   \n",
       "10329  23/03/2020   23      3  2020      0       0                Zimbabwe   \n",
       "10330  22/03/2020   22      3  2020      1       0                Zimbabwe   \n",
       "10331  21/03/2020   21      3  2020      1       0                Zimbabwe   \n",
       "\n",
       "      geoId countryterritoryCode  popData2018  \n",
       "0        AF                  AFG   37172386.0  \n",
       "1        AF                  AFG   37172386.0  \n",
       "2        AF                  AFG   37172386.0  \n",
       "3        AF                  AFG   37172386.0  \n",
       "4        AF                  AFG   37172386.0  \n",
       "...     ...                  ...          ...  \n",
       "10327    ZW                  ZWE   14439018.0  \n",
       "10328    ZW                  ZWE   14439018.0  \n",
       "10329    ZW                  ZWE   14439018.0  \n",
       "10330    ZW                  ZWE   14439018.0  \n",
       "10331    ZW                  ZWE   14439018.0  \n",
       "\n",
       "[10332 rows x 10 columns]"
      ]
     },
     "execution_count": 21,
     "metadata": {},
     "output_type": "execute_result"
    }
   ],
   "source": [
    "data = pd.read_csv(\"COVID-19-geographic-disbtribution-worldwide-2020-04-12.csv\")\n",
    "data"
   ]
  },
  {
   "cell_type": "code",
   "execution_count": 22,
   "metadata": {},
   "outputs": [
    {
     "data": {
      "text/plain": [
       "Index(['dateRep', 'day', 'month', 'year', 'cases', 'deaths',\n",
       "       'countriesAndTerritories', 'geoId', 'countryterritoryCode',\n",
       "       'popData2018'],\n",
       "      dtype='object')"
      ]
     },
     "execution_count": 22,
     "metadata": {},
     "output_type": "execute_result"
    }
   ],
   "source": [
    "data.columns"
   ]
  },
  {
   "cell_type": "code",
   "execution_count": 23,
   "metadata": {},
   "outputs": [],
   "source": [
    "cols_1 = ['countriesAndTerritories','geoId','cases', 'deaths','popData2018']"
   ]
  },
  {
   "cell_type": "code",
   "execution_count": 24,
   "metadata": {},
   "outputs": [],
   "source": [
    "data_1 = data[cols_1]"
   ]
  },
  {
   "cell_type": "code",
   "execution_count": 25,
   "metadata": {},
   "outputs": [
    {
     "data": {
      "text/plain": [
       "Index(['countriesAndTerritories', 'geoId', 'cases', 'deaths', 'popData2018'], dtype='object')"
      ]
     },
     "execution_count": 25,
     "metadata": {},
     "output_type": "execute_result"
    }
   ],
   "source": [
    "data_1.columns"
   ]
  },
  {
   "cell_type": "code",
   "execution_count": 26,
   "metadata": {},
   "outputs": [],
   "source": [
    "data_1.set_index('geoId',inplace=True)"
   ]
  },
  {
   "cell_type": "code",
   "execution_count": 27,
   "metadata": {},
   "outputs": [
    {
     "data": {
      "text/html": [
       "<div>\n",
       "<style scoped>\n",
       "    .dataframe tbody tr th:only-of-type {\n",
       "        vertical-align: middle;\n",
       "    }\n",
       "\n",
       "    .dataframe tbody tr th {\n",
       "        vertical-align: top;\n",
       "    }\n",
       "\n",
       "    .dataframe thead th {\n",
       "        text-align: right;\n",
       "    }\n",
       "</style>\n",
       "<table border=\"1\" class=\"dataframe\">\n",
       "  <thead>\n",
       "    <tr style=\"text-align: right;\">\n",
       "      <th></th>\n",
       "      <th>countriesAndTerritories</th>\n",
       "      <th>cases</th>\n",
       "      <th>deaths</th>\n",
       "      <th>popData2018</th>\n",
       "    </tr>\n",
       "    <tr>\n",
       "      <th>geoId</th>\n",
       "      <th></th>\n",
       "      <th></th>\n",
       "      <th></th>\n",
       "      <th></th>\n",
       "    </tr>\n",
       "  </thead>\n",
       "  <tbody>\n",
       "    <tr>\n",
       "      <td>TH</td>\n",
       "      <td>Thailand</td>\n",
       "      <td>33</td>\n",
       "      <td>3</td>\n",
       "      <td>69428524.0</td>\n",
       "    </tr>\n",
       "    <tr>\n",
       "      <td>TH</td>\n",
       "      <td>Thailand</td>\n",
       "      <td>45</td>\n",
       "      <td>2</td>\n",
       "      <td>69428524.0</td>\n",
       "    </tr>\n",
       "    <tr>\n",
       "      <td>TH</td>\n",
       "      <td>Thailand</td>\n",
       "      <td>50</td>\n",
       "      <td>1</td>\n",
       "      <td>69428524.0</td>\n",
       "    </tr>\n",
       "    <tr>\n",
       "      <td>TH</td>\n",
       "      <td>Thailand</td>\n",
       "      <td>54</td>\n",
       "      <td>2</td>\n",
       "      <td>69428524.0</td>\n",
       "    </tr>\n",
       "    <tr>\n",
       "      <td>TH</td>\n",
       "      <td>Thailand</td>\n",
       "      <td>111</td>\n",
       "      <td>4</td>\n",
       "      <td>69428524.0</td>\n",
       "    </tr>\n",
       "    <tr>\n",
       "      <td>...</td>\n",
       "      <td>...</td>\n",
       "      <td>...</td>\n",
       "      <td>...</td>\n",
       "      <td>...</td>\n",
       "    </tr>\n",
       "    <tr>\n",
       "      <td>TH</td>\n",
       "      <td>Thailand</td>\n",
       "      <td>0</td>\n",
       "      <td>0</td>\n",
       "      <td>69428524.0</td>\n",
       "    </tr>\n",
       "    <tr>\n",
       "      <td>TH</td>\n",
       "      <td>Thailand</td>\n",
       "      <td>0</td>\n",
       "      <td>0</td>\n",
       "      <td>69428524.0</td>\n",
       "    </tr>\n",
       "    <tr>\n",
       "      <td>TH</td>\n",
       "      <td>Thailand</td>\n",
       "      <td>0</td>\n",
       "      <td>0</td>\n",
       "      <td>69428524.0</td>\n",
       "    </tr>\n",
       "    <tr>\n",
       "      <td>TH</td>\n",
       "      <td>Thailand</td>\n",
       "      <td>0</td>\n",
       "      <td>0</td>\n",
       "      <td>69428524.0</td>\n",
       "    </tr>\n",
       "    <tr>\n",
       "      <td>TH</td>\n",
       "      <td>Thailand</td>\n",
       "      <td>0</td>\n",
       "      <td>0</td>\n",
       "      <td>69428524.0</td>\n",
       "    </tr>\n",
       "  </tbody>\n",
       "</table>\n",
       "<p>97 rows × 4 columns</p>\n",
       "</div>"
      ],
      "text/plain": [
       "      countriesAndTerritories  cases  deaths  popData2018\n",
       "geoId                                                    \n",
       "TH                   Thailand     33       3   69428524.0\n",
       "TH                   Thailand     45       2   69428524.0\n",
       "TH                   Thailand     50       1   69428524.0\n",
       "TH                   Thailand     54       2   69428524.0\n",
       "TH                   Thailand    111       4   69428524.0\n",
       "...                       ...    ...     ...          ...\n",
       "TH                   Thailand      0       0   69428524.0\n",
       "TH                   Thailand      0       0   69428524.0\n",
       "TH                   Thailand      0       0   69428524.0\n",
       "TH                   Thailand      0       0   69428524.0\n",
       "TH                   Thailand      0       0   69428524.0\n",
       "\n",
       "[97 rows x 4 columns]"
      ]
     },
     "execution_count": 27,
     "metadata": {},
     "output_type": "execute_result"
    }
   ],
   "source": [
    "data_TH = data_1.loc['TH']\n",
    "data_TH"
   ]
  },
  {
   "cell_type": "code",
   "execution_count": 30,
   "metadata": {},
   "outputs": [],
   "source": [
    "pop_TH = data_TH.iloc[0,3]"
   ]
  },
  {
   "cell_type": "code",
   "execution_count": 31,
   "metadata": {},
   "outputs": [],
   "source": [
    "data_sum = data_TH.sum(axis=0)"
   ]
  },
  {
   "cell_type": "code",
   "execution_count": 32,
   "metadata": {},
   "outputs": [],
   "source": [
    "pop_cases = data_sum.loc['cases']"
   ]
  },
  {
   "cell_type": "code",
   "execution_count": 33,
   "metadata": {},
   "outputs": [],
   "source": [
    "pop_death = data_sum.loc['deaths']"
   ]
  },
  {
   "cell_type": "code",
   "execution_count": 34,
   "metadata": {},
   "outputs": [],
   "source": [
    "p_pop_cases = (pop_cases / pop_TH)*100"
   ]
  },
  {
   "cell_type": "code",
   "execution_count": 35,
   "metadata": {},
   "outputs": [
    {
     "data": {
      "text/plain": [
       "0.003674282345394524"
      ]
     },
     "execution_count": 35,
     "metadata": {},
     "output_type": "execute_result"
    }
   ],
   "source": [
    "p_pop_cases"
   ]
  },
  {
   "cell_type": "code",
   "execution_count": 36,
   "metadata": {},
   "outputs": [],
   "source": [
    "p_pop_death = (pop_death / pop_TH)*100"
   ]
  },
  {
   "cell_type": "code",
   "execution_count": 37,
   "metadata": {},
   "outputs": [
    {
     "data": {
      "text/plain": [
       "5.473254767737825e-05"
      ]
     },
     "execution_count": 37,
     "metadata": {},
     "output_type": "execute_result"
    }
   ],
   "source": [
    "p_pop_death"
   ]
  },
  {
   "cell_type": "code",
   "execution_count": 38,
   "metadata": {},
   "outputs": [],
   "source": [
    "#ข้อที่ 4"
   ]
  },
  {
   "cell_type": "code",
   "execution_count": 39,
   "metadata": {},
   "outputs": [],
   "source": [
    "#4.1"
   ]
  },
  {
   "cell_type": "code",
   "execution_count": 40,
   "metadata": {},
   "outputs": [],
   "source": [
    "cols_4_1 = ['day','geoId','cases', 'deaths']"
   ]
  },
  {
   "cell_type": "code",
   "execution_count": 41,
   "metadata": {},
   "outputs": [],
   "source": [
    "data_4_1 = data[cols_4_1]"
   ]
  },
  {
   "cell_type": "code",
   "execution_count": 42,
   "metadata": {},
   "outputs": [],
   "source": [
    "data_4_1.set_index('geoId',inplace=True)"
   ]
  },
  {
   "cell_type": "code",
   "execution_count": 43,
   "metadata": {},
   "outputs": [],
   "source": [
    "data4_1_TH = data_4_1.loc['TH']"
   ]
  },
  {
   "cell_type": "code",
   "execution_count": 44,
   "metadata": {},
   "outputs": [],
   "source": [
    "data4_TH_cases = data4_1_TH['cases']"
   ]
  },
  {
   "cell_type": "code",
   "execution_count": 45,
   "metadata": {},
   "outputs": [],
   "source": [
    "data4_TH_day = data4_1_TH['day']"
   ]
  },
  {
   "cell_type": "code",
   "execution_count": 46,
   "metadata": {},
   "outputs": [],
   "source": [
    "n_TH_1=data4_TH_day.shape[0]"
   ]
  },
  {
   "cell_type": "code",
   "execution_count": 26,
   "metadata": {},
   "outputs": [],
   "source": [
    "n_TH_2 = pd.Series(range(0,n_TH_1))"
   ]
  },
  {
   "cell_type": "code",
   "execution_count": 27,
   "metadata": {},
   "outputs": [],
   "source": [
    "data4_TH_cases = data4_TH_cases.iloc[::-1]"
   ]
  },
  {
   "cell_type": "code",
   "execution_count": 28,
   "metadata": {},
   "outputs": [
    {
     "data": {
      "text/plain": [
       "<Figure size 432x288 with 0 Axes>"
      ]
     },
     "metadata": {},
     "output_type": "display_data"
    }
   ],
   "source": [
    "fig4_1 = plt.figure()"
   ]
  },
  {
   "cell_type": "code",
   "execution_count": 29,
   "metadata": {},
   "outputs": [
    {
     "data": {
      "text/plain": [
       "Text(0.5, 1.0, 'The graph shows the relationship between the day and the number of cases.')"
      ]
     },
     "execution_count": 29,
     "metadata": {},
     "output_type": "execute_result"
    },
    {
     "data": {
      "image/png": "[encoded data removed]",
      "text/plain": [
       "<Figure size 432x288 with 1 Axes>"
      ]
     },
     "metadata": {
      "needs_background": "light"
     },
     "output_type": "display_data"
    }
   ],
   "source": [
    "plt.plot(n_TH_2,data4_TH_cases,'o',color='red')\n",
    "plt.xlabel(\"Days(day)\")\n",
    "plt.ylabel(\"Cases(people)\")\n",
    "plt.yscale('log')\n",
    "plt.grid(True)\n",
    "plt.title(\"The graph shows the relationship between the day and the number of cases.\")"
   ]
  },
  {
   "cell_type": "code",
   "execution_count": 30,
   "metadata": {},
   "outputs": [],
   "source": [
    "#ข้อ 4.2"
   ]
  },
  {
   "cell_type": "code",
   "execution_count": 31,
   "metadata": {},
   "outputs": [],
   "source": [
    "#1.TH"
   ]
  },
  {
   "cell_type": "code",
   "execution_count": 32,
   "metadata": {},
   "outputs": [],
   "source": [
    "data_TH = data_1.loc['TH']\n",
    "pop_TH = data_TH.iloc[0,3]\n",
    "data_sum_TH = data_TH.sum(axis=0)\n",
    "pop_cases_TH = data_sum_TH.loc['cases']\n",
    "pop_death_TH = data_sum_TH.loc['deaths']\n",
    "p_pop_cases_TH = (pop_cases_TH / pop_TH)*100\n",
    "p_pop_death_TH = (pop_death_TH / pop_cases_TH)*100"
   ]
  },
  {
   "cell_type": "code",
   "execution_count": 33,
   "metadata": {},
   "outputs": [],
   "source": [
    "#2.US"
   ]
  },
  {
   "cell_type": "code",
   "execution_count": 34,
   "metadata": {},
   "outputs": [],
   "source": [
    "data_US = data_1.loc['US']\n",
    "pop_US = data_US.iloc[0,3]\n",
    "data_sum_US = data_US.sum(axis=0)\n",
    "pop_cases_US = data_sum_US.loc['cases']\n",
    "pop_death_US = data_sum_US.loc['deaths']\n",
    "p_pop_cases_US = (pop_cases_US / pop_US)*100\n",
    "p_pop_death_US = (pop_death_US / pop_cases_US)*100"
   ]
  },
  {
   "cell_type": "code",
   "execution_count": 35,
   "metadata": {},
   "outputs": [],
   "source": [
    "#3 ES Spain"
   ]
  },
  {
   "cell_type": "code",
   "execution_count": 36,
   "metadata": {},
   "outputs": [],
   "source": [
    "data_ES = data_1.loc['ES']\n",
    "pop_ES = data_ES.iloc[0,3]\n",
    "data_sum_ES = data_ES.sum(axis=0)\n",
    "pop_cases_ES = data_sum_ES.loc['cases']\n",
    "pop_death_ES = data_sum_ES.loc['deaths']\n",
    "p_pop_cases_ES = (pop_cases_ES / pop_ES)*100\n",
    "p_pop_death_ES = (pop_death_ES / pop_cases_ES)*100"
   ]
  },
  {
   "cell_type": "code",
   "execution_count": 37,
   "metadata": {},
   "outputs": [],
   "source": [
    "#4 IT Italy"
   ]
  },
  {
   "cell_type": "code",
   "execution_count": 38,
   "metadata": {},
   "outputs": [],
   "source": [
    "data_IT = data_1.loc['IT']\n",
    "pop_IT = data_IT.iloc[0,3]\n",
    "data_sum_IT = data_IT.sum(axis=0)\n",
    "pop_cases_IT = data_sum_IT.loc['cases']\n",
    "pop_death_IT = data_sum_IT.loc['deaths']\n",
    "p_pop_cases_IT = (pop_cases_IT / pop_IT)*100\n",
    "p_pop_death_IT = (pop_death_IT / pop_cases_IT)*100"
   ]
  },
  {
   "cell_type": "code",
   "execution_count": 39,
   "metadata": {},
   "outputs": [],
   "source": [
    "#5 DE Germany"
   ]
  },
  {
   "cell_type": "code",
   "execution_count": 40,
   "metadata": {},
   "outputs": [],
   "source": [
    "data_DE = data_1.loc['DE']\n",
    "pop_DE = data_DE.iloc[0,3]\n",
    "data_sum_DE = data_DE.sum(axis=0)\n",
    "pop_cases_DE = data_sum_DE.loc['cases']\n",
    "pop_death_DE = data_sum_DE.loc['deaths']\n",
    "p_pop_cases_DE = (pop_cases_DE / pop_DE)*100\n",
    "p_pop_death_DE = (pop_death_DE / pop_cases_DE)*100"
   ]
  },
  {
   "cell_type": "code",
   "execution_count": 41,
   "metadata": {},
   "outputs": [],
   "source": [
    "#6 FR France"
   ]
  },
  {
   "cell_type": "code",
   "execution_count": 42,
   "metadata": {},
   "outputs": [],
   "source": [
    "data_FR = data_1.loc['FR']\n",
    "pop_FR = data_FR.iloc[0,3]\n",
    "data_sum_FR = data_FR.sum(axis=0)\n",
    "pop_cases_FR = data_sum_FR.loc['cases']\n",
    "pop_death_FR = data_sum_FR.loc['deaths']\n",
    "p_pop_cases_FR = (pop_cases_FR / pop_FR)*100\n",
    "p_pop_death_FR = (pop_death_FR / pop_cases_FR)*100"
   ]
  },
  {
   "cell_type": "code",
   "execution_count": 43,
   "metadata": {},
   "outputs": [],
   "source": [
    "#7 CN China"
   ]
  },
  {
   "cell_type": "code",
   "execution_count": 44,
   "metadata": {},
   "outputs": [],
   "source": [
    "data_CN = data_1.loc['CN']\n",
    "pop_CN = data_CN.iloc[0,3]\n",
    "data_sum_CN = data_CN.sum(axis=0)\n",
    "pop_cases_CN = data_sum_CN.loc['cases']\n",
    "pop_death_CN = data_sum_CN.loc['deaths']\n",
    "p_pop_cases_CN = (pop_cases_CN / pop_CN)*100\n",
    "p_pop_death_CN = (pop_death_CN / pop_cases_CN)*100"
   ]
  },
  {
   "cell_type": "code",
   "execution_count": 45,
   "metadata": {},
   "outputs": [],
   "source": [
    "#8 IR Iran"
   ]
  },
  {
   "cell_type": "code",
   "execution_count": 46,
   "metadata": {},
   "outputs": [],
   "source": [
    "data_IR = data_1.loc['IR']\n",
    "pop_IR = data_IR.iloc[0,3]\n",
    "data_sum_IR = data_IR.sum(axis=0)\n",
    "pop_cases_IR = data_sum_IR.loc['cases']\n",
    "pop_death_IR = data_sum_IR.loc['deaths']\n",
    "p_pop_cases_IR = (pop_cases_IR / pop_IR)*100\n",
    "p_pop_death_IR = (pop_death_IR / pop_cases_IR)*100"
   ]
  },
  {
   "cell_type": "code",
   "execution_count": 47,
   "metadata": {},
   "outputs": [],
   "source": [
    "#9 UK United Kingdom"
   ]
  },
  {
   "cell_type": "code",
   "execution_count": 48,
   "metadata": {},
   "outputs": [],
   "source": [
    "data_UK = data_1.loc['UK']\n",
    "pop_UK = data_UK.iloc[0,3]\n",
    "data_sum_UK = data_UK.sum(axis=0)\n",
    "pop_cases_UK = data_sum_UK.loc['cases']\n",
    "pop_death_UK = data_sum_UK.loc['deaths']\n",
    "p_pop_cases_UK = (pop_cases_UK / pop_UK)*100\n",
    "p_pop_death_UK = (pop_death_UK / pop_cases_UK)*100"
   ]
  },
  {
   "cell_type": "code",
   "execution_count": 49,
   "metadata": {},
   "outputs": [],
   "source": [
    "#10 TR Turkey"
   ]
  },
  {
   "cell_type": "code",
   "execution_count": 50,
   "metadata": {},
   "outputs": [],
   "source": [
    "data_TR = data_1.loc['TR']\n",
    "pop_TR = data_TR.iloc[0,3]\n",
    "data_sum_TR = data_TR.sum(axis=0)\n",
    "pop_cases_TR = data_sum_TR.loc['cases']\n",
    "pop_death_TR = data_sum_TR.loc['deaths']\n",
    "p_pop_cases_TR = (pop_cases_TR / pop_TR)*100\n",
    "p_pop_death_TR = (pop_death_TR / pop_cases_TR)*100"
   ]
  },
  {
   "cell_type": "code",
   "execution_count": 51,
   "metadata": {},
   "outputs": [],
   "source": [
    "x=[p_pop_cases_TH,p_pop_cases_US,p_pop_cases_ES,p_pop_cases_IT\n",
    "   ,p_pop_cases_DE,p_pop_cases_FR,p_pop_cases_CN,p_pop_cases_IR,p_pop_cases_UK\n",
    "   ,p_pop_cases_TR]\n",
    "y=[p_pop_death_TH,p_pop_death_US,p_pop_death_ES,p_pop_death_IT\n",
    "  ,p_pop_death_DE,p_pop_death_FR,p_pop_death_CN,p_pop_death_IR,p_pop_death_UK\n",
    "  ,p_pop_death_TR]\n",
    "pop=np.array([pop_TH,pop_US,pop_ES,pop_IT,pop_DE,pop_FR,pop_CN,pop_IR,pop_UK,pop_TR])\n",
    "color=np.arange(10)"
   ]
  },
  {
   "cell_type": "code",
   "execution_count": 52,
   "metadata": {},
   "outputs": [
    {
     "data": {
      "text/plain": [
       "Text(0, 0.5, 'Percentage of deaths per number of cases.')"
      ]
     },
     "execution_count": 52,
     "metadata": {},
     "output_type": "execute_result"
    },
    {
     "data": {
      "image/png": "[encoded data removed]",
      "text/plain": [
       "<Figure size 432x288 with 2 Axes>"
      ]
     },
     "metadata": {
      "needs_background": "light"
     },
     "output_type": "display_data"
    }
   ],
   "source": [
    "sizes= pop*0.00001\n",
    "plt.xlim(-0.15,0.4)\n",
    "plt.ylim(-2,17)\n",
    "plt.scatter(x,y,c=color,s=sizes,alpha=0.3)\n",
    "plt.colorbar();\n",
    "plt.xlabel(\"Percentage of cases per total population\")\n",
    "plt.ylabel(\"Percentage of deaths per number of cases.\")"
   ]
  }
 ],
 "metadata": {
  "kernelspec": {
   "display_name": "Python 3",
   "language": "python",
   "name": "python3"
  },
  "language_info": {
   "codemirror_mode": {
    "name": "ipython",
    "version": 3
   },
   "file_extension": ".py",
   "mimetype": "text/x-python",
   "name": "python",
   "nbconvert_exporter": "python",
   "pygments_lexer": "ipython3",
   "version": "3.7.4"
  }
 },
 "nbformat": 4,
 "nbformat_minor": 4
}
